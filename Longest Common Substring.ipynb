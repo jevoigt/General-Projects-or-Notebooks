{
 "cells": [
  {
   "cell_type": "markdown",
   "metadata": {},
   "source": [
    "## For this assignment we will write a dynamic program that will return the longest common substring between two strings. Dynamic programming helps us optimize the process that without dynamic programming, would lead to a much less efficient time complexity, because we would have to esentially find all of the substrings within each string and find the longest that is found in both. We can get these results in a more efficent manner in a dynamic way."
   ]
  },
  {
   "cell_type": "code",
   "execution_count": 1,
   "metadata": {},
   "outputs": [],
   "source": [
    "import numpy as np"
   ]
  },
  {
   "cell_type": "code",
   "execution_count": 110,
   "metadata": {},
   "outputs": [],
   "source": [
    "def lcs(x, y, m, n):\n",
    "    L = [[0 for x in range(n+1)] for x in range(m+1)]\n",
    "  \n",
    "    #L acts as our matrix for our string characters\n",
    "\n",
    "    for i in range(m+1):\n",
    "        for j in range(n+1):\n",
    "            if i == 0 or j == 0:\n",
    "                L[i][j] = 0\n",
    "            elif x[i-1] == y[j-1]:\n",
    "                L[i][j] = L[i-1][j-1] + 1\n",
    "            else:\n",
    "                L[i][j] = max(L[i-1][j], L[i][j-1])\n",
    "  \n",
    "    # Above we are iterating with i and j over the ranges+1 of the lengths of our strings\n",
    "    # and setting wherever i or j == 0 to 0 in our L matrix (where empty string is located).\n",
    "    # If this condition is not met, we see if the index of i-1 in X is equal to the index of \n",
    "    # j-1 in Y (comparing string characters at specific locations). If this condition is met, \n",
    "    # we set L at index i by j equal to its diagonal + 1. If neither of these are met, we set \n",
    "    # L of index i by j to the max of either cell i-1 (upper) or j-1 (left)\n",
    "    \n",
    "    print(np.array(L))\n",
    "    index = L[m][n]\n",
    "    print(\"The LCS length is \" + str(index))\n",
    "    \n",
    "    #index gives us the bottom right most cell value (the LCS length)\n",
    "    \n",
    "    LCS = [\"\"] * (index+1)\n",
    "    \n",
    "    \n",
    "    # Create our lcs as an empty string, and multiply it by our bottom right most cell value \n",
    "    # to create an empty string for each character in our LCS\n",
    "    \n",
    "    \n",
    "    # Start from the right-most-bottom-most corner and\n",
    "    # one by one store characters in lcs[]\n",
    "    i = m\n",
    "    j = n\n",
    "    while i > 0 and j > 0:\n",
    "        \n",
    "    # We now set our index markers i and j to the bottom right most cell to begin back tracking \n",
    "    # and adding our characters found in both strings. We use a while loop to continue the following \n",
    "    # process until both of our indecies have reached 0 and the entire matrix has been spanned\n",
    "  \n",
    "        # If current character in X[] and Y are same, then\n",
    "        # current character is part of LCS\n",
    "        if x[i-1] == y[j-1]:\n",
    "            LCS[index-1] = x[i-1]\n",
    "            i-=1\n",
    "            j-=1\n",
    "            index-=1\n",
    "            \n",
    "        #If the given character in our X string and Y string are the same, then the current character \n",
    "        # is part of the LCS, and the right most index in our list of empty strings (lcs) is set equal \n",
    "        # to that character from the X string, and our i and j indecies both decrease by one to move \n",
    "        # to the left diagonal where we now know we can from. Our index value also reduces to add \n",
    "        # the next potential character\n",
    "  \n",
    "        # If not same, then find the larger of two and\n",
    "        # go in the direction of larger value\n",
    "        elif L[i-1][j] > L[i][j-1]:\n",
    "            i-=1\n",
    "        else:\n",
    "            j-=1\n",
    "            \n",
    "        #If the given characters from index i in string X and index j in string Y are not the same, \n",
    "        # then we find whichever cell value was larger, and move our indecies to that cell to continue \n",
    "        # the appropriate backtracking route\n",
    "  \n",
    "    print(\"LCS of \" + x + \" and \" + y + \" is \" + \"\".join(LCS))\n",
    "    \n",
    "#Last, we print our X string, Y string, and use the join function to return all of the individual \n",
    "#string values into one string, thus printing our LCS"
   ]
  },
  {
   "cell_type": "code",
   "execution_count": 111,
   "metadata": {},
   "outputs": [
    {
     "name": "stdout",
     "output_type": "stream",
     "text": [
      "[[0 0 0 0 0 0 0 0 0 0]\n",
      " [0 0 0 0 0 0 0 0 0 0]\n",
      " [0 0 0 1 1 1 1 1 1 1]\n",
      " [0 0 0 1 1 1 1 1 1 1]\n",
      " [0 1 1 1 1 1 1 1 1 1]\n",
      " [0 1 1 1 1 1 1 1 1 2]\n",
      " [0 1 1 1 1 1 1 1 1 2]\n",
      " [0 1 1 1 1 1 1 2 2 2]\n",
      " [0 1 1 1 1 1 1 2 2 2]\n",
      " [0 1 1 1 1 1 1 2 3 3]]\n",
      "The LCS length is 3\n",
      "LCS of HORSEBACK and SNOWFLAKE is SAK\n"
     ]
    }
   ],
   "source": [
    "x = \"HORSEBACK\"\n",
    "y = \"SNOWFLAKE\"\n",
    "m = len(x)\n",
    "n = len(y)\n",
    "lcs(x, y, m, n)"
   ]
  },
  {
   "cell_type": "code",
   "execution_count": null,
   "metadata": {},
   "outputs": [],
   "source": []
  }
 ],
 "metadata": {
  "kernelspec": {
   "display_name": "Python 3",
   "language": "python",
   "name": "python3"
  },
  "language_info": {
   "codemirror_mode": {
    "name": "ipython",
    "version": 3
   },
   "file_extension": ".py",
   "mimetype": "text/x-python",
   "name": "python",
   "nbconvert_exporter": "python",
   "pygments_lexer": "ipython3",
   "version": "3.8.5"
  }
 },
 "nbformat": 4,
 "nbformat_minor": 4
}
